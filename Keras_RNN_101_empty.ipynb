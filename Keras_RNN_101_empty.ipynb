{
  "nbformat": 4,
  "nbformat_minor": 0,
  "metadata": {
    "colab": {
      "name": "Keras RNN 101 - empty.ipynb",
      "provenance": [],
      "collapsed_sections": [],
      "authorship_tag": "ABX9TyPi0fDHT4esQFffCuWEgJhV",
      "include_colab_link": true
    },
    "kernelspec": {
      "name": "python3",
      "display_name": "Python 3"
    },
    "language_info": {
      "name": "python"
    }
  },
  "cells": [
    {
      "cell_type": "markdown",
      "metadata": {
        "id": "view-in-github",
        "colab_type": "text"
      },
      "source": [
        "<a href=\"https://colab.research.google.com/github/mbednarski/sda-rnn/blob/master/Keras_RNN_101_empty.ipynb\" target=\"_parent\"><img src=\"https://colab.research.google.com/assets/colab-badge.svg\" alt=\"Open In Colab\"/></a>"
      ]
    },
    {
      "cell_type": "code",
      "execution_count": null,
      "metadata": {
        "id": "RlIvQt0dse4l"
      },
      "outputs": [],
      "source": [
        "import numpy as np\n",
        "import tensorflow as tf\n",
        "from tensorflow import keras\n",
        "from tensorflow.keras import layers\n",
        "import matplotlib.pyplot as plt"
      ]
    },
    {
      "cell_type": "markdown",
      "source": [
        "# Generowanie danych\n",
        "\n",
        "Na początek wygenerujmy przykładowe dane. Niech będzie to pomiar pewnej wartości. Dane powinny mieć format 1xTx1 gdzie T to ilośc próbek"
      ],
      "metadata": {
        "id": "GfVnhMsFtsag"
      }
    },
    {
      "cell_type": "code",
      "source": [
        "T = 300\n",
        "time = np.linspace(0,10,T)\n",
        "X = 0.2 * time + np.random.randn(T)*0.1  + 0.5 * np.sin(time*1.5)\n",
        "X = np.expand_dims(X, 0)\n",
        "X = np.expand_dims(X, -1)\n",
        "print(X.shape)\n",
        "plt.plot(X[0, :, 0])"
      ],
      "metadata": {
        "id": "ox4ljZWbtpX8"
      },
      "execution_count": null,
      "outputs": []
    },
    {
      "cell_type": "markdown",
      "source": [
        "## Tworzenie prostej sieci RNN (N:1)"
      ],
      "metadata": {
        "id": "TV8YJ0Eiu4lO"
      }
    },
    {
      "cell_type": "code",
      "source": [
        "rnn = layers.SimpleRNN(units=64)\n",
        "output = rnn(X)\n",
        "print(output.shape)"
      ],
      "metadata": {
        "id": "sWxKLpo0ubBE"
      },
      "execution_count": null,
      "outputs": []
    },
    {
      "cell_type": "markdown",
      "source": [
        "## Zadanie: sprawdź wartośc min i max zwróconych wyników. Czy pasują do nieliniowości tanh?"
      ],
      "metadata": {
        "id": "DYj1DiOC6VPF"
      }
    },
    {
      "cell_type": "code",
      "source": [
        "# ?"
      ],
      "metadata": {
        "id": "5ojYIyX4uv9X"
      },
      "execution_count": null,
      "outputs": []
    },
    {
      "cell_type": "markdown",
      "source": [
        "## Klasyfikacja całej sekwencji do jednej z 10 klas"
      ],
      "metadata": {
        "id": "EOUQO92j-Sbd"
      }
    },
    {
      "cell_type": "code",
      "source": [
        "model = keras.Sequential()\n",
        "model.add(layers.SimpleRNN(units=64))\n",
        "model.add(layers.Dense(10, activation='softmax'))\n",
        "model.build(input_shape=(None, None, 1))\n",
        "model.summary()\n",
        "output = model(X)\n",
        "print(output.shape)\n",
        "print(output)"
      ],
      "metadata": {
        "id": "QbqQtpB7-bab"
      },
      "execution_count": null,
      "outputs": []
    },
    {
      "cell_type": "markdown",
      "source": [
        "# Tworzenie warstwy RNN (N:N)\n",
        "\n",
        "\n"
      ],
      "metadata": {
        "id": "bG1kF97H6v0C"
      }
    },
    {
      "cell_type": "code",
      "source": [
        "rnn = layers.SimpleRNN(units=64, return_sequences=True)\n",
        "output = rnn(X)\n",
        "output.shape"
      ],
      "metadata": {
        "id": "y7Ecvk4Lvk42"
      },
      "execution_count": null,
      "outputs": []
    },
    {
      "cell_type": "markdown",
      "source": [
        "## Wielowarstwowa sieć RNN"
      ],
      "metadata": {
        "id": "vC536ruF7tRs"
      }
    },
    {
      "cell_type": "code",
      "source": [
        "model = keras.Sequential()\n",
        "model.add(layers.SimpleRNN(units=64, return_sequences=True))\n",
        "model.add(layers.SimpleRNN(units=64))\n",
        "model.build(input_shape=(None, None, 1))\n",
        "model.summary()\n",
        "\n",
        "output = model(X)\n",
        "output.shape"
      ],
      "metadata": {
        "id": "MZNgvHo9_QCB"
      },
      "execution_count": null,
      "outputs": []
    },
    {
      "cell_type": "markdown",
      "source": [
        "## Zadanie: Skąd wynikają liczby parametrów?"
      ],
      "metadata": {
        "id": "ix8zWUAe7iTm"
      }
    },
    {
      "cell_type": "markdown",
      "source": [
        "## Klasyfikacja wszystkich elementów sekwencji"
      ],
      "metadata": {
        "id": "cnH69mFW_y_0"
      }
    },
    {
      "cell_type": "code",
      "source": [
        "model = keras.Sequential()\n",
        "rnn1 = layers.SimpleRNN(units=64, return_sequences=True)\n",
        "rnn2 = layers.SimpleRNN(units=64, return_sequences=True)\n",
        "fc = layers.TimeDistributed(layers.Dense(10, activation='sigmoid'))\n",
        "model.add(rnn1)\n",
        "model.add(rnn2)\n",
        "model.add(fc)\n",
        "model.build(input_shape=(None, None, 1))\n",
        "model.summary()\n",
        "\n",
        "output = model(X)\n",
        "output.shape"
      ],
      "metadata": {
        "id": "QhxKkph_5c8-"
      },
      "execution_count": null,
      "outputs": []
    },
    {
      "cell_type": "code",
      "source": [
        ""
      ],
      "metadata": {
        "id": "bQAvB0wv6KXh"
      },
      "execution_count": null,
      "outputs": []
    }
  ]
}